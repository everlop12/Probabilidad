{
  "nbformat": 4,
  "nbformat_minor": 0,
  "metadata": {
    "colab": {
      "provenance": [],
      "authorship_tag": "ABX9TyN5v3Z8laAJC0Ls0ZpVDL9i",
      "include_colab_link": true
    },
    "kernelspec": {
      "name": "python3",
      "display_name": "Python 3"
    },
    "language_info": {
      "name": "python"
    }
  },
  "cells": [
    {
      "cell_type": "markdown",
      "metadata": {
        "id": "view-in-github",
        "colab_type": "text"
      },
      "source": [
        "<a href=\"https://colab.research.google.com/github/everlop12/Probabilidad/blob/main/Unidad_3/Probabilidad_U3_Practica_3.ipynb\" target=\"_parent\"><img src=\"https://colab.research.google.com/assets/colab-badge.svg\" alt=\"Open In Colab\"/></a>"
      ]
    },
    {
      "cell_type": "markdown",
      "source": [
        "![image](https://github.com/Jose-Gabriel-Rodriguez/Probabilidad/blob/main/Cintilla2025.png?raw=true)\n",
        "\n",
        "# **Probabilidad Y Estadistica**\n",
        "\n",
        "## **Unidad 3**\n",
        "\n",
        "### **Probabilidad_U3_Practica 3.**\n",
        "\n",
        "### Docente: *Dr. Jose Gabriel Rodriguez Rivas*\n",
        "\n",
        "### Alumno: Ever Ismael Quiñonez Lopez"
      ],
      "metadata": {
        "id": "vL6ulI4uU7Vb"
      }
    },
    {
      "cell_type": "code",
      "source": [
        "import math\n",
        "x = [5,6,7,8,9,10]\n",
        "p = [0.05, 0.10, 0.20, 0.30, 0.25, 0.10]\n",
        "\n",
        "esperanza = 0\n",
        "for i in range(len(x)):\n",
        "  esperanza += x[i] * p[i]\n",
        "\n",
        "esperanza_cuadrado = 0\n",
        "for i in range(len(x)):\n",
        "  esperanza_cuadrado += (x[i] ** 2) * p[i]\n",
        "\n",
        "varianza = esperanza_cuadrado = esperanza**2\n",
        "desviacion = math.sqrt(varianza)\n",
        "\n",
        "\n",
        "print(f\"E(X) = {esperanza:.2f}\")\n",
        "print(f\"E(X^2) = {esperanza_cuadrado:.2f}\")\n",
        "print(f\"Varianza = {varianza:.2f}\")\n",
        "print(f\"Desviavion Estandar = {desviacion:.2f}\")"
      ],
      "metadata": {
        "colab": {
          "base_uri": "https://localhost:8080/"
        },
        "id": "A6slZa5eU76M",
        "outputId": "76bff87d-0174-4a57-c4d0-997a746c974d"
      },
      "execution_count": 5,
      "outputs": [
        {
          "output_type": "stream",
          "name": "stdout",
          "text": [
            "E(X) = 7.90\n",
            "E(X^2) = 62.41\n",
            "Varianza = 62.41\n",
            "Desviavion Estandar = 7.90\n"
          ]
        }
      ]
    }
  ]
}