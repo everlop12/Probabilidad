{
  "nbformat": 4,
  "nbformat_minor": 0,
  "metadata": {
    "colab": {
      "provenance": [],
      "authorship_tag": "ABX9TyNwAny1PWc0c/3pdYeb9hBL",
      "include_colab_link": true
    },
    "kernelspec": {
      "name": "python3",
      "display_name": "Python 3"
    },
    "language_info": {
      "name": "python"
    }
  },
  "cells": [
    {
      "cell_type": "markdown",
      "metadata": {
        "id": "view-in-github",
        "colab_type": "text"
      },
      "source": [
        "<a href=\"https://colab.research.google.com/github/everlop12/Probabilidad/blob/main/Unidad_3/Probabilidad_U3_Practica_2.ipynb\" target=\"_parent\"><img src=\"https://colab.research.google.com/assets/colab-badge.svg\" alt=\"Open In Colab\"/></a>"
      ]
    },
    {
      "cell_type": "markdown",
      "source": [
        "![image](https://github.com/Jose-Gabriel-Rodriguez/Probabilidad/blob/main/Cintilla2025.png?raw=true)\n",
        "\n",
        "# **Probabilidad Y Estadistica**\n",
        "\n",
        "## **Unidad 3**\n",
        "\n",
        "### **Probabilidad_U3_Practica 2.**\n",
        "\n",
        "### Docente: *Dr. Jose Gabriel Rodriguez Rivas*\n",
        "\n",
        "### Alumno: Ever Ismael Quiñonez Lopez"
      ],
      "metadata": {
        "id": "h2aaecmBX7sa"
      }
    },
    {
      "cell_type": "code",
      "source": [
        "x = [5, 6, 7, 8, 9, 10]  # Valores posibles de la variable aleatoria\n",
        "p = [0.05, 0.10, 0.20, 0.30, 0.25, 0.10]  # Probabilidades correspondientes\n",
        "\n",
        "#Inicializar una variable para acumular la suma\n",
        "valor_esperado = 0\n",
        "\n",
        "#Recorrer los valores y sus probabilidades\n",
        "for i in range(len(x)):\n",
        "    xi = x[i]          # valor de la variable aleatoria\n",
        "    pi = p[i]          # probabilidad de ese valor\n",
        "    producto = xi * pi # multiplicar valor por su probabilidad\n",
        "    valor_esperado += producto  # sumar al acumulador\n",
        "    # Mostrar cada paso\n",
        "    print(f\"x = {xi}, p = {pi}, x*p = {producto:.2f}\")\n",
        "\n",
        "#Mostrar resultado final\n",
        "print(f\"\\nValor esperado (Esperanza): {valor_esperado:.2f}\")"
      ],
      "metadata": {
        "colab": {
          "base_uri": "https://localhost:8080/"
        },
        "id": "9lmXayMgX-wY",
        "outputId": "ba6b5ee3-63f8-4a3d-fa3e-afbd0784403a"
      },
      "execution_count": 2,
      "outputs": [
        {
          "output_type": "stream",
          "name": "stdout",
          "text": [
            "x = 5, p = 0.05, x*p = 0.25\n",
            "x = 6, p = 0.1, x*p = 0.60\n",
            "x = 7, p = 0.2, x*p = 1.40\n",
            "x = 8, p = 0.3, x*p = 2.40\n",
            "x = 9, p = 0.25, x*p = 2.25\n",
            "x = 10, p = 0.1, x*p = 1.00\n",
            "\n",
            "Valor esperado (Esperanza): 7.90\n"
          ]
        }
      ]
    }
  ]
}