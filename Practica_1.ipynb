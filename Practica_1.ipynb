{
  "nbformat": 4,
  "nbformat_minor": 0,
  "metadata": {
    "colab": {
      "provenance": [],
      "authorship_tag": "ABX9TyPu67e4Se69KK/fvsfX3vgR",
      "include_colab_link": true
    },
    "kernelspec": {
      "name": "python3",
      "display_name": "Python 3"
    },
    "language_info": {
      "name": "python"
    }
  },
  "cells": [
    {
      "cell_type": "markdown",
      "metadata": {
        "id": "view-in-github",
        "colab_type": "text"
      },
      "source": [
        "<a href=\"https://colab.research.google.com/github/everlop12/Probabilidad/blob/main/Practica_1.ipynb\" target=\"_parent\"><img src=\"https://colab.research.google.com/assets/colab-badge.svg\" alt=\"Open In Colab\"/></a>"
      ]
    },
    {
      "cell_type": "code",
      "execution_count": 1,
      "metadata": {
        "colab": {
          "base_uri": "https://localhost:8080/"
        },
        "id": "KmbkYfht2tBI",
        "outputId": "f19793d1-c62f-4b79-8fb1-7f81143eae22"
      },
      "outputs": [
        {
          "output_type": "stream",
          "name": "stdout",
          "text": [
            "[70, 70, 65, 90, 100, 95, 45, 80, 73, 20, 100, 96]\n"
          ]
        },
        {
          "output_type": "execute_result",
          "data": {
            "text/plain": [
              "list"
            ]
          },
          "metadata": {},
          "execution_count": 1
        }
      ],
      "source": [
        "from statistics import *\n",
        "\n",
        "grupoa = [70, 70, 65, 90, 100, 95, 45, 80, 73, 20, 100, 96]\n",
        "print(grupoa)\n",
        "\n",
        "type(grupoa)"
      ]
    },
    {
      "cell_type": "code",
      "source": [
        "#Sacar la media de las calificaciones\n",
        "promedio = sum(grupoa) / len(grupoa)\n",
        "print(promedio)"
      ],
      "metadata": {
        "colab": {
          "base_uri": "https://localhost:8080/"
        },
        "id": "-YiPUsKs39MI",
        "outputId": "9887a3c0-077c-482c-ecab-fc3397ed2a1f"
      },
      "execution_count": 5,
      "outputs": [
        {
          "output_type": "stream",
          "name": "stdout",
          "text": [
            "75.33333333333333\n"
          ]
        }
      ]
    },
    {
      "cell_type": "code",
      "source": [
        "#Utilizar la funcion mean que esta en la libreria statistics\n",
        "#El promedio\n",
        "promedio2 = mean(grupoa)\n",
        "print(promedio2)"
      ],
      "metadata": {
        "colab": {
          "base_uri": "https://localhost:8080/"
        },
        "id": "-34IDA4-4YvY",
        "outputId": "7218bb73-a070-4bc7-efad-eaffe0600e49"
      },
      "execution_count": 6,
      "outputs": [
        {
          "output_type": "stream",
          "name": "stdout",
          "text": [
            "75.33333333333333\n"
          ]
        }
      ]
    },
    {
      "cell_type": "code",
      "source": [
        "#Determinar el valor de la mediana con la funcion median\n",
        "\n",
        "mediana =median(grupoa)\n",
        "print(mediana)"
      ],
      "metadata": {
        "colab": {
          "base_uri": "https://localhost:8080/"
        },
        "id": "LNGsIH9V4s-V",
        "outputId": "9156d100-3fa7-4401-de00-f2c3d0827d2d"
      },
      "execution_count": 7,
      "outputs": [
        {
          "output_type": "stream",
          "name": "stdout",
          "text": [
            "76.5\n"
          ]
        }
      ]
    },
    {
      "cell_type": "code",
      "source": [
        "#Determinar el valor de la moda con la funcion mode\n",
        "\n",
        "moda = mode(grupoa)\n",
        "print(moda)"
      ],
      "metadata": {
        "colab": {
          "base_uri": "https://localhost:8080/"
        },
        "id": "LNKtfFqU5T5X",
        "outputId": "f10730b7-adfb-4212-ecf2-d8a606ae0bef"
      },
      "execution_count": 8,
      "outputs": [
        {
          "output_type": "stream",
          "name": "stdout",
          "text": [
            "70\n"
          ]
        }
      ]
    },
    {
      "cell_type": "code",
      "source": [
        "#En caso de que exista mas de una moda, se puede emplear la funcion multimode\n",
        "\n",
        "moda2= multimode(grupoa)\n",
        "print(moda2)"
      ],
      "metadata": {
        "colab": {
          "base_uri": "https://localhost:8080/"
        },
        "id": "0vifCFZD5iYU",
        "outputId": "63887c8f-e564-4ef0-8aa2-0e6bb118de45"
      },
      "execution_count": 9,
      "outputs": [
        {
          "output_type": "stream",
          "name": "stdout",
          "text": [
            "[70, 100]\n"
          ]
        }
      ]
    },
    {
      "cell_type": "markdown",
      "source": [
        "Ejemplo 2-\n"
      ],
      "metadata": {
        "id": "GBh7RZuD6CDO"
      }
    },
    {
      "cell_type": "code",
      "source": [
        "#Definimos una variable llamada tiempos100mts de tipo de lista\n",
        "#Tiempos que tardaron los alumnos en correr los 100 mts\n",
        "\n",
        "tiempos100mts = [15,10,17.20,14.69,13.27,22.15,18.71,19.15,20.12,15.10,17.20]\n",
        "\n",
        "#Desplegamos los valores de la lista\n",
        "print(tiempos100mts)"
      ],
      "metadata": {
        "colab": {
          "base_uri": "https://localhost:8080/"
        },
        "id": "tJjK7bNf6EoG",
        "outputId": "18c965c0-6c46-49b9-be08-5decb3597e46"
      },
      "execution_count": 10,
      "outputs": [
        {
          "output_type": "stream",
          "name": "stdout",
          "text": [
            "[15, 10, 17.2, 14.69, 13.27, 22.15, 18.71, 19.15, 20.12, 15.1, 17.2]\n"
          ]
        }
      ]
    },
    {
      "cell_type": "code",
      "source": [
        "#Usamos la funcion mean para determinar el tiempo promedio de la\n",
        "\n",
        "print(\"El tiempo promedio de los corredores es=>\", mean (tiempos100mts))"
      ],
      "metadata": {
        "colab": {
          "base_uri": "https://localhost:8080/"
        },
        "id": "IC7KzVGW6vhr",
        "outputId": "7b6840b7-03fb-4d06-b6ec-ac87155e4f2b"
      },
      "execution_count": 16,
      "outputs": [
        {
          "output_type": "stream",
          "name": "stdout",
          "text": [
            "El tiempo promedio de los corredores es=> 16.599090909090908\n"
          ]
        }
      ]
    },
    {
      "cell_type": "code",
      "source": [
        "#Definimos la mediana\n",
        "\n",
        "mediana = median(tiempos100mts)\n",
        "print(\"La media de los tiempos de los corredores es=>\", mediana)"
      ],
      "metadata": {
        "colab": {
          "base_uri": "https://localhost:8080/"
        },
        "id": "5Ohtxg5F7S4U",
        "outputId": "e8b30ce6-0e23-4f8c-f006-d161a2b4c967"
      },
      "execution_count": 15,
      "outputs": [
        {
          "output_type": "stream",
          "name": "stdout",
          "text": [
            "La media de los tiempos de los corredores es=> 17.2\n"
          ]
        }
      ]
    },
    {
      "cell_type": "code",
      "source": [
        "#Definimos la moda\n",
        "\n",
        "moda = mode(tiempos100mts)\n",
        "print(\"La moda de los tiempos es=>\", moda)"
      ],
      "metadata": {
        "colab": {
          "base_uri": "https://localhost:8080/"
        },
        "id": "4G7HlPpD7w9q",
        "outputId": "edc331d9-372e-404e-ede6-a59c7414d24e"
      },
      "execution_count": 17,
      "outputs": [
        {
          "output_type": "stream",
          "name": "stdout",
          "text": [
            "La moda de los tiempos es=> 17.2\n"
          ]
        }
      ]
    },
    {
      "cell_type": "code",
      "source": [
        "#Definimos la multimoda\n",
        "\n",
        "multimoda = multimode(tiempos100mts)\n",
        "print(\"La moda de los tiempos es=>\", multimoda)"
      ],
      "metadata": {
        "colab": {
          "base_uri": "https://localhost:8080/"
        },
        "id": "IK-QxEWZ8Mrq",
        "outputId": "61fe7842-6e5b-4817-f60a-f8456c6a1718"
      },
      "execution_count": 18,
      "outputs": [
        {
          "output_type": "stream",
          "name": "stdout",
          "text": [
            "La moda de los tiempos es=> [17.2]\n"
          ]
        }
      ]
    },
    {
      "cell_type": "markdown",
      "source": [
        "Ejemplo 3-Histogramas de 2 Grupos\n"
      ],
      "metadata": {
        "id": "cCNK8nUc8lx0"
      }
    },
    {
      "cell_type": "code",
      "source": [
        "#Libreria para generar numero aleatorios\n",
        "import random"
      ],
      "metadata": {
        "id": "UdwJ8YrU8qjB"
      },
      "execution_count": 34,
      "outputs": []
    },
    {
      "cell_type": "code",
      "source": [
        "fabrica1 = []\n",
        "for i in range(100):\n",
        "  numero_al = round(random.uniform(50, 100), 2)\n",
        "  fabrica1.append(numero_al)\n",
        "\n",
        "print(fabrica1)"
      ],
      "metadata": {
        "colab": {
          "base_uri": "https://localhost:8080/"
        },
        "id": "WDVwgg5p9EFT",
        "outputId": "90f98aa8-2db0-42ee-992f-39bbd78f5e1f"
      },
      "execution_count": 35,
      "outputs": [
        {
          "output_type": "stream",
          "name": "stdout",
          "text": [
            "[51.94, 82.95, 79.33, 50.65, 52.94, 53.11, 95.4, 95.54, 82.74, 91.54, 80.05, 57.49, 96.57, 57.15, 59.79, 87.09, 99.01, 77.15, 73.94, 56.79, 99.24, 59.27, 58.88, 90.71, 91.46, 69.01, 99.1, 95.41, 69.57, 85.21, 62.83, 99.99, 77.6, 73.58, 83.17, 69.87, 62.54, 62.02, 94.23, 86.25, 55.57, 87.78, 53.07, 91.75, 97.62, 63.15, 70.97, 76.46, 89.88, 68.61, 65.65, 90.15, 67.04, 67.51, 86.05, 50.89, 69.67, 73.02, 95.91, 92.99, 58.32, 97.07, 77.02, 55.75, 69.69, 85.11, 73.87, 51.3, 87.33, 79.81, 54.19, 52.15, 58.54, 87.64, 67.67, 52.14, 67.01, 97.4, 97.32, 62.04, 81.99, 57.65, 64.12, 62.76, 97.57, 99.86, 95.99, 50.1, 56.27, 53.99, 93.92, 64.33, 64.25, 74.52, 83.68, 60.16, 62.12, 59.84, 64.02, 99.83]\n"
          ]
        }
      ]
    }
  ]
}