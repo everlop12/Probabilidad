{
  "nbformat": 4,
  "nbformat_minor": 0,
  "metadata": {
    "colab": {
      "provenance": [],
      "authorship_tag": "ABX9TyOw7t5jrnSumodoZMiF6Hgp",
      "include_colab_link": true
    },
    "kernelspec": {
      "name": "python3",
      "display_name": "Python 3"
    },
    "language_info": {
      "name": "python"
    }
  },
  "cells": [
    {
      "cell_type": "markdown",
      "metadata": {
        "id": "view-in-github",
        "colab_type": "text"
      },
      "source": [
        "<a href=\"https://colab.research.google.com/github/everlop12/Probabilidad/blob/main/Unidad%202/Probabilidad_U2_Programa3.ipynb\" target=\"_parent\"><img src=\"https://colab.research.google.com/assets/colab-badge.svg\" alt=\"Open In Colab\"/></a>"
      ]
    },
    {
      "cell_type": "markdown",
      "source": [
        "![image](https://github.com/Jose-Gabriel-Rodriguez/Probabilidad/blob/main/Cintilla2025.png?raw=true)\n",
        "\n",
        "# **Probabilidad Y Estadistica**\n",
        "\n",
        "## **Unidad 2**\n",
        "\n",
        "### **Probabilidad_U2_Programa3.**\n",
        "\n",
        "### Docente: *Dr. Jose Gabriel Rodriguez Rivas*\n",
        "\n",
        "### Alumno: Ever Ismael Quiñonez Lopez"
      ],
      "metadata": {
        "id": "c2-IAj9di8W7"
      }
    },
    {
      "cell_type": "code",
      "source": [
        "import math\n"
      ],
      "metadata": {
        "id": "8ig4rm3TjBTz"
      },
      "execution_count": 1,
      "outputs": []
    },
    {
      "cell_type": "code",
      "source": [
        "\n",
        "n = 10\n",
        "r = 4\n",
        "\n",
        "# Calcular el factorial de n\n",
        "n_factorial = math.factorial(n)\n",
        "\n",
        "# Calcular el factorial de (n - r)\n",
        "n_menos_r = n - r\n",
        "n_menos_r_factorial = math.factorial(n_menos_r)\n",
        "\n",
        "Pnr = n_factorial / n_menos_r_factorial\n",
        "\n",
        "# Convertir el resultado a entero\n",
        "numero_permutaciones = int(Pnr)"
      ],
      "metadata": {
        "id": "j1banD-zjQB8"
      },
      "execution_count": 2,
      "outputs": []
    },
    {
      "cell_type": "code",
      "source": [
        "print(f\"Problema: Elegir {r} asistentes de {n} donde el orden importa.\")\n",
        "print(f\"Fórmula: P({n}, {r}) = {n}! / ({n} - {r})!\")\n",
        "print(f\"Sustitución: {n_factorial} / {n_menos_r_factorial}\")\n",
        "print(\"-\" * 30)\n",
        "print(f\"El número total de maneras posibles es: {numero_permutaciones}\")"
      ],
      "metadata": {
        "colab": {
          "base_uri": "https://localhost:8080/"
        },
        "id": "YZNISglrjeIj",
        "outputId": "75345868-26de-4acb-c5a5-8b7e2fb16e1d"
      },
      "execution_count": 3,
      "outputs": [
        {
          "output_type": "stream",
          "name": "stdout",
          "text": [
            "Problema: Elegir 4 asistentes de 10 donde el orden importa.\n",
            "Fórmula: P(10, 4) = 10! / (10 - 4)!\n",
            "Sustitución: 3628800 / 720\n",
            "------------------------------\n",
            "El número total de maneras posibles es: 5040\n"
          ]
        }
      ]
    }
  ]
}