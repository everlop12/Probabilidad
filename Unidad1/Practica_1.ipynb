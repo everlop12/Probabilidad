{
  "nbformat": 4,
  "nbformat_minor": 0,
  "metadata": {
    "colab": {
      "provenance": [],
      "authorship_tag": "ABX9TyOsMtxYROsBcvBn2EcMyBND",
      "include_colab_link": true
    },
    "kernelspec": {
      "name": "python3",
      "display_name": "Python 3"
    },
    "language_info": {
      "name": "python"
    }
  },
  "cells": [
    {
      "cell_type": "markdown",
      "metadata": {
        "id": "view-in-github",
        "colab_type": "text"
      },
      "source": [
        "<a href=\"https://colab.research.google.com/github/everlop12/Probabilidad/blob/main/Unidad1/Practica_1.ipynb\" target=\"_parent\"><img src=\"https://colab.research.google.com/assets/colab-badge.svg\" alt=\"Open In Colab\"/></a>"
      ]
    },
    {
      "cell_type": "code",
      "execution_count": null,
      "metadata": {
        "colab": {
          "base_uri": "https://localhost:8080/"
        },
        "id": "KmbkYfht2tBI",
        "outputId": "3786e25c-6d5b-4cc0-f030-edbdac6bf79e"
      },
      "outputs": [
        {
          "output_type": "stream",
          "name": "stdout",
          "text": [
            "[70, 70, 65, 90, 100, 95, 45, 80, 73, 20, 100, 96]\n"
          ]
        },
        {
          "output_type": "execute_result",
          "data": {
            "text/plain": [
              "list"
            ]
          },
          "metadata": {},
          "execution_count": 20
        }
      ],
      "source": [
        "from statistics import *\n",
        "\n",
        "grupoa = [70, 70, 65, 90, 100, 95, 45, 80, 73, 20, 100, 96]\n",
        "print(grupoa)\n",
        "\n",
        "type(grupoa)"
      ]
    },
    {
      "cell_type": "code",
      "source": [
        "#Sacar la media de las calificaciones\n",
        "promedio = sum(grupoa) / len(grupoa)\n",
        "print(promedio)"
      ],
      "metadata": {
        "colab": {
          "base_uri": "https://localhost:8080/"
        },
        "id": "-YiPUsKs39MI",
        "outputId": "6094fc64-cb39-4a5d-c62d-4689ad6ce1a6"
      },
      "execution_count": null,
      "outputs": [
        {
          "output_type": "stream",
          "name": "stdout",
          "text": [
            "75.33333333333333\n"
          ]
        }
      ]
    },
    {
      "cell_type": "code",
      "source": [
        "#Utilizar la funcion mean que esta en la libreria statistics\n",
        "#El promedio\n",
        "promedio2 = mean(grupoa)\n",
        "print(promedio2)"
      ],
      "metadata": {
        "colab": {
          "base_uri": "https://localhost:8080/"
        },
        "id": "-34IDA4-4YvY",
        "outputId": "51dcbdcc-d195-491a-ae3f-71253ccc5a8a"
      },
      "execution_count": null,
      "outputs": [
        {
          "output_type": "stream",
          "name": "stdout",
          "text": [
            "75.33333333333333\n"
          ]
        }
      ]
    },
    {
      "cell_type": "code",
      "source": [
        "#Determinar el valor de la mediana con la funcion median\n",
        "\n",
        "mediana =median(grupoa)\n",
        "print(mediana)"
      ],
      "metadata": {
        "colab": {
          "base_uri": "https://localhost:8080/"
        },
        "id": "LNGsIH9V4s-V",
        "outputId": "9156d100-3fa7-4401-de00-f2c3d0827d2d"
      },
      "execution_count": null,
      "outputs": [
        {
          "output_type": "stream",
          "name": "stdout",
          "text": [
            "76.5\n"
          ]
        }
      ]
    },
    {
      "cell_type": "code",
      "source": [
        "#Determinar el valor de la moda con la funcion mode\n",
        "\n",
        "moda = mode(grupoa)\n",
        "print(moda)"
      ],
      "metadata": {
        "colab": {
          "base_uri": "https://localhost:8080/"
        },
        "id": "LNKtfFqU5T5X",
        "outputId": "f10730b7-adfb-4212-ecf2-d8a606ae0bef"
      },
      "execution_count": null,
      "outputs": [
        {
          "output_type": "stream",
          "name": "stdout",
          "text": [
            "70\n"
          ]
        }
      ]
    },
    {
      "cell_type": "code",
      "source": [
        "#En caso de que exista mas de una moda, se puede emplear la funcion multimode\n",
        "\n",
        "moda2= multimode(grupoa)\n",
        "print(moda2)"
      ],
      "metadata": {
        "colab": {
          "base_uri": "https://localhost:8080/"
        },
        "id": "0vifCFZD5iYU",
        "outputId": "63887c8f-e564-4ef0-8aa2-0e6bb118de45"
      },
      "execution_count": null,
      "outputs": [
        {
          "output_type": "stream",
          "name": "stdout",
          "text": [
            "[70, 100]\n"
          ]
        }
      ]
    },
    {
      "cell_type": "markdown",
      "source": [
        "Ejemplo 2-\n"
      ],
      "metadata": {
        "id": "GBh7RZuD6CDO"
      }
    },
    {
      "cell_type": "code",
      "source": [
        "#Definimos una variable llamada tiempos100mts de tipo de lista\n",
        "#Tiempos que tardaron los alumnos en correr los 100 mts\n",
        "\n",
        "tiempos100mts = [15,10,17.20,14.69,13.27,22.15,18.71,19.15,20.12,15.10,17.20]\n",
        "\n",
        "#Desplegamos los valores de la lista\n",
        "print(tiempos100mts)"
      ],
      "metadata": {
        "colab": {
          "base_uri": "https://localhost:8080/"
        },
        "id": "tJjK7bNf6EoG",
        "outputId": "18c965c0-6c46-49b9-be08-5decb3597e46"
      },
      "execution_count": null,
      "outputs": [
        {
          "output_type": "stream",
          "name": "stdout",
          "text": [
            "[15, 10, 17.2, 14.69, 13.27, 22.15, 18.71, 19.15, 20.12, 15.1, 17.2]\n"
          ]
        }
      ]
    },
    {
      "cell_type": "code",
      "source": [
        "#Usamos la funcion mean para determinar el tiempo promedio de la\n",
        "\n",
        "print(\"El tiempo promedio de los corredores es=>\", mean (tiempos100mts))"
      ],
      "metadata": {
        "colab": {
          "base_uri": "https://localhost:8080/"
        },
        "id": "IC7KzVGW6vhr",
        "outputId": "7b6840b7-03fb-4d06-b6ec-ac87155e4f2b"
      },
      "execution_count": null,
      "outputs": [
        {
          "output_type": "stream",
          "name": "stdout",
          "text": [
            "El tiempo promedio de los corredores es=> 16.599090909090908\n"
          ]
        }
      ]
    },
    {
      "cell_type": "code",
      "source": [
        "#Definimos la mediana\n",
        "\n",
        "mediana = median(tiempos100mts)\n",
        "print(\"La media de los tiempos de los corredores es=>\", mediana)"
      ],
      "metadata": {
        "colab": {
          "base_uri": "https://localhost:8080/"
        },
        "id": "5Ohtxg5F7S4U",
        "outputId": "e8b30ce6-0e23-4f8c-f006-d161a2b4c967"
      },
      "execution_count": null,
      "outputs": [
        {
          "output_type": "stream",
          "name": "stdout",
          "text": [
            "La media de los tiempos de los corredores es=> 17.2\n"
          ]
        }
      ]
    },
    {
      "cell_type": "code",
      "source": [
        "#Definimos la moda\n",
        "\n",
        "moda = mode(tiempos100mts)\n",
        "print(\"La moda de los tiempos es=>\", moda)"
      ],
      "metadata": {
        "colab": {
          "base_uri": "https://localhost:8080/"
        },
        "id": "4G7HlPpD7w9q",
        "outputId": "edc331d9-372e-404e-ede6-a59c7414d24e"
      },
      "execution_count": null,
      "outputs": [
        {
          "output_type": "stream",
          "name": "stdout",
          "text": [
            "La moda de los tiempos es=> 17.2\n"
          ]
        }
      ]
    },
    {
      "cell_type": "code",
      "source": [
        "#Definimos la multimoda\n",
        "\n",
        "multimoda = multimode(tiempos100mts)\n",
        "print(\"La moda de los tiempos es=>\", multimoda)"
      ],
      "metadata": {
        "colab": {
          "base_uri": "https://localhost:8080/"
        },
        "id": "IK-QxEWZ8Mrq",
        "outputId": "61fe7842-6e5b-4817-f60a-f8456c6a1718"
      },
      "execution_count": null,
      "outputs": [
        {
          "output_type": "stream",
          "name": "stdout",
          "text": [
            "La moda de los tiempos es=> [17.2]\n"
          ]
        }
      ]
    },
    {
      "cell_type": "markdown",
      "source": [
        "Ejemplo 3-Histogramas de 2 Grupos\n"
      ],
      "metadata": {
        "id": "cCNK8nUc8lx0"
      }
    },
    {
      "cell_type": "code",
      "source": [
        "#Libreria para generar numero aleatorios\n",
        "import random"
      ],
      "metadata": {
        "id": "UdwJ8YrU8qjB"
      },
      "execution_count": null,
      "outputs": []
    },
    {
      "cell_type": "code",
      "source": [
        "fabrica1 = []\n",
        "for i in range(100):\n",
        "  numero_al = round(random.uniform(50, 100), 2)\n",
        "  fabrica1.append(numero_al)\n",
        "\n",
        "print(fabrica1)"
      ],
      "metadata": {
        "colab": {
          "base_uri": "https://localhost:8080/"
        },
        "id": "WDVwgg5p9EFT",
        "outputId": "2035651d-168b-410d-b88a-d006b76a01ea"
      },
      "execution_count": null,
      "outputs": [
        {
          "output_type": "stream",
          "name": "stdout",
          "text": [
            "[94.7, 70.35, 55.47, 57.64, 92.98, 54.25, 55.86, 69.54, 94.61, 99.31, 69.28, 98.32, 62.2, 79.83, 64.31, 70.28, 50.47, 64.81, 74.8, 95.88, 52.08, 94.87, 82.6, 72.46, 51.79, 65.68, 71.25, 97.62, 94.98, 70.99, 88.88, 88.69, 96.94, 75.06, 84.24, 55.42, 59.21, 69.93, 79.57, 78.75, 86.15, 88.63, 81.68, 69.97, 78.35, 70.71, 83.08, 75.68, 75.11, 71.56, 57.57, 87.64, 66.1, 74.2, 67.94, 94.79, 61.08, 87.76, 72.26, 69.38, 90.24, 58.43, 65.9, 89.58, 50.62, 73.3, 50.19, 82.39, 68.91, 50.33, 95.21, 97.52, 86.67, 98.61, 75.0, 76.92, 84.23, 58.52, 95.44, 80.4, 56.64, 82.43, 97.99, 57.58, 84.95, 88.8, 66.93, 72.0, 57.53, 99.25, 85.06, 78.59, 69.42, 89.44, 84.93, 80.76, 68.51, 89.94, 70.25, 60.75]\n"
          ]
        }
      ]
    },
    {
      "cell_type": "code",
      "source": [
        "fabrica2 = []\n",
        "for i in range(100):\n",
        "  numero_al = round(random.uniform(40, 93), 2)\n",
        "  fabrica2.append(numero_al)\n",
        "\n",
        "print(fabrica2)"
      ],
      "metadata": {
        "colab": {
          "base_uri": "https://localhost:8080/"
        },
        "id": "gZxUhytu_hr2",
        "outputId": "f9c962c7-23ca-4c04-d458-b117707e98fc"
      },
      "execution_count": null,
      "outputs": [
        {
          "output_type": "stream",
          "name": "stdout",
          "text": [
            "[63.88, 55.36, 59.59, 59.91, 66.92, 83.53, 75.99, 42.25, 81.6, 41.64, 83.25, 60.12, 78.51, 65.18, 86.88, 76.34, 83.89, 83.82, 90.63, 74.51, 90.67, 66.51, 72.2, 40.13, 66.35, 69.13, 47.22, 64.51, 72.97, 68.68, 44.86, 90.23, 52.65, 66.78, 55.78, 90.02, 85.97, 58.83, 68.85, 41.14, 78.46, 53.38, 42.95, 47.24, 48.53, 58.3, 73.6, 59.31, 64.13, 54.64, 61.61, 65.18, 86.07, 42.3, 60.26, 56.79, 46.86, 43.38, 60.02, 82.61, 84.31, 55.74, 84.12, 66.03, 83.73, 54.97, 82.94, 63.42, 69.44, 74.82, 86.91, 68.07, 44.9, 60.72, 52.02, 56.87, 74.76, 86.64, 90.59, 85.07, 61.0, 58.26, 81.44, 47.43, 63.83, 68.13, 57.09, 57.64, 65.71, 60.88, 58.81, 77.22, 77.68, 84.53, 79.42, 75.88, 50.28, 51.86, 48.83, 79.3]\n"
          ]
        }
      ]
    },
    {
      "cell_type": "code",
      "source": [
        "#Libreria de python para graficar valores\n",
        "import matplotlib.pyplot as plt\n",
        "plt.hist(fabrica1)\n",
        "plt.title(\"Produccion diaria de la Fabrica 1\")"
      ],
      "metadata": {
        "colab": {
          "base_uri": "https://localhost:8080/",
          "height": 469
        },
        "id": "dp6787ZIBWKZ",
        "outputId": "6e244489-de43-4fd1-8d84-fff49626d28f"
      },
      "execution_count": null,
      "outputs": [
        {
          "output_type": "execute_result",
          "data": {
            "text/plain": [
              "Text(0.5, 1.0, 'Produccion diaria de la Fabrica 1')"
            ]
          },
          "metadata": {},
          "execution_count": 12
        },
        {
          "output_type": "display_data",
          "data": {
            "text/plain": [
              "<Figure size 640x480 with 1 Axes>"
            ],
            "image/png": "[encoded data removed]"
          },
          "metadata": {}
        }
      ]
    },
    {
      "cell_type": "code",
      "source": [
        "plt.hist(fabrica2)\n",
        "plt.title(\"Produccion diaria de la Fabrica 2\")"
      ],
      "metadata": {
        "colab": {
          "base_uri": "https://localhost:8080/",
          "height": 469
        },
        "id": "SLR6OQARCmm7",
        "outputId": "0d84f7f9-351a-4369-81c7-4f694dd8c5dd"
      },
      "execution_count": null,
      "outputs": [
        {
          "output_type": "execute_result",
          "data": {
            "text/plain": [
              "Text(0.5, 1.0, 'Produccion diaria de la Fabrica 2')"
            ]
          },
          "metadata": {},
          "execution_count": 13
        },
        {
          "output_type": "display_data",
          "data": {
            "text/plain": [
              "<Figure size 640x480 with 1 Axes>"
            ],
            "image/png": "[encoded data removed]"
          },
          "metadata": {}
        }
      ]
    },
    {
      "cell_type": "code",
      "source": [
        "media1 = mean(fabrica1)\n",
        "mediana1 = median(fabrica1)\n",
        "moda1 = mode(fabrica1)\n",
        "\n",
        "print(\"Valores de la Fabrica 1\")\n",
        "print(\"La media es: \",media1)\n",
        "print(\"La mediana es: \",mediana1)\n",
        "print(\"La moda es: \",moda1)"
      ],
      "metadata": {
        "colab": {
          "base_uri": "https://localhost:8080/"
        },
        "id": "aojgZGFvDDvh",
        "outputId": "662a94e6-a8c5-4a60-af78-625b290989e2"
      },
      "execution_count": null,
      "outputs": [
        {
          "output_type": "stream",
          "name": "stdout",
          "text": [
            "Valores de la Fabrica 1\n",
            "La media es:  75.957\n",
            "La mediana es:  75.03\n",
            "La moda es:  94.7\n"
          ]
        }
      ]
    },
    {
      "cell_type": "code",
      "source": [
        "media2 = mean(fabrica2)\n",
        "mediana2 = median(fabrica2)\n",
        "moda2 = mode(fabrica2)\n",
        "\n",
        "print(\"Valores de la Fabrica 2\")\n",
        "print(\"La media es: \",media2)\n",
        "print(\"La mediana es: \",mediana2)\n",
        "print(\"La moda es: \",moda2)"
      ],
      "metadata": {
        "colab": {
          "base_uri": "https://localhost:8080/"
        },
        "id": "JtTY5qCjEP_h",
        "outputId": "8b4b4d9d-4a1e-47a4-d79e-c96962fe84ea"
      },
      "execution_count": null,
      "outputs": [
        {
          "output_type": "stream",
          "name": "stdout",
          "text": [
            "Valores de la Fabrica 2\n",
            "La media es:  66.4419\n",
            "La mediana es:  65.445\n",
            "La moda es:  65.18\n"
          ]
        }
      ]
    },
    {
      "cell_type": "code",
      "source": [
        "#Generar 2 subplot de 1 renglon por 2 columnas para desplegar los dos histogramas, una al lado de la otra\n",
        "fig, (ax1,ax2) = plt.subplots(nrows =1, ncols=2, figsize=(10,5))\n",
        "ax1.hist(fabrica1)\n",
        "ax2.hist(fabrica2)\n",
        "plt.show()"
      ],
      "metadata": {
        "colab": {
          "base_uri": "https://localhost:8080/",
          "height": 445
        },
        "id": "3unMehP8E-SN",
        "outputId": "5ef42eaa-becb-4563-b040-205fcd491f81"
      },
      "execution_count": null,
      "outputs": [
        {
          "output_type": "display_data",
          "data": {
            "text/plain": [
              "<Figure size 1000x500 with 2 Axes>"
            ],
            "image/png": "[encoded data removed]"
          },
          "metadata": {}
        }
      ]
    },
    {
      "cell_type": "code",
      "source": [
        "plt.hist(fabrica1, bins=10, alpha=0.2, color='b', edgecolor = \"black\")\n",
        "plt.axvline(media1, color='b', linestyle='dashed', linewidth=2, label= \"Media\")\n",
        "plt.axvline(mediana1, color='r', linestyle='dashed', linewidth=2, label= \"Mediana\")\n",
        "plt.axvline(moda1, color='y', linestyle='dashed', linewidth=2, label= \"Moda\")\n",
        "plt.xlabel(\"Valor\")\n",
        "plt.ylabel(\"Frecuencia\")\n",
        "plt.title(\"Produccion diaria de la Fabrica 1\")\n",
        "plt.legend()\n",
        "plt.show()"
      ],
      "metadata": {
        "colab": {
          "base_uri": "https://localhost:8080/",
          "height": 472
        },
        "id": "hUW8G1ASGp1t",
        "outputId": "2f7932ef-3177-4d09-d9d5-5436e8f8dd33"
      },
      "execution_count": null,
      "outputs": [
        {
          "output_type": "display_data",
          "data": {
            "text/plain": [
              "<Figure size 640x480 with 1 Axes>"
            ],
            "image/png": "[encoded data removed]"
          },
          "metadata": {}
        }
      ]
    },
    {
      "cell_type": "code",
      "source": [
        "plt.hist(fabrica2, bins=10, alpha=0.2, color='b', edgecolor = \"black\")\n",
        "plt.axvline(media2, color='b', linestyle='dashed', linewidth=2, label= \"Media\")\n",
        "plt.axvline(mediana2, color='y', linestyle='dashed', linewidth=2, label= \"Mediana\")\n",
        "plt.axvline(moda2, color='r', linestyle='dashed', linewidth=2, label= \"Moda\")\n",
        "plt.xlabel(\"Valor\")\n",
        "plt.ylabel(\"Frecuencia\")\n",
        "plt.title(\"Produccion diaria de la Fabrica 2\")\n",
        "plt.legend()\n",
        "plt.show()"
      ],
      "metadata": {
        "colab": {
          "base_uri": "https://localhost:8080/",
          "height": 472
        },
        "id": "4WHvHqlaJHDm",
        "outputId": "a102a2d0-02f4-4697-a423-aeb26827a083"
      },
      "execution_count": null,
      "outputs": [
        {
          "output_type": "display_data",
          "data": {
            "text/plain": [
              "<Figure size 640x480 with 1 Axes>"
            ],
            "image/png": "[encoded data removed]"
          },
          "metadata": {}
        }
      ]
    }
  ]
}