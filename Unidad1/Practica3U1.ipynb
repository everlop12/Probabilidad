{
  "nbformat": 4,
  "nbformat_minor": 0,
  "metadata": {
    "colab": {
      "provenance": [],
      "authorship_tag": "ABX9TyMh5jtpNaX3vUy5UydcwED6",
      "include_colab_link": true
    },
    "kernelspec": {
      "name": "python3",
      "display_name": "Python 3"
    },
    "language_info": {
      "name": "python"
    }
  },
  "cells": [
    {
      "cell_type": "markdown",
      "metadata": {
        "id": "view-in-github",
        "colab_type": "text"
      },
      "source": [
        "<a href=\"https://colab.research.google.com/github/everlop12/Probabilidad/blob/main/Unidad1/Practica3U1.ipynb\" target=\"_parent\"><img src=\"https://colab.research.google.com/assets/colab-badge.svg\" alt=\"Open In Colab\"/></a>"
      ]
    },
    {
      "cell_type": "markdown",
      "source": [],
      "metadata": {
        "id": "hElKavwyNZ70"
      }
    },
    {
      "cell_type": "code",
      "source": [
        "import random\n",
        "import matplotlib.pyplot as plt\n",
        "from statistics import *"
      ],
      "metadata": {
        "id": "zscUHEqjNa7b"
      },
      "execution_count": 1,
      "outputs": []
    },
    {
      "cell_type": "code",
      "source": [
        "fabrica1 = []\n",
        "for i in range(100):\n",
        "  numero_al = round(random.uniform(50, 100), 2)\n",
        "  fabrica1.append(numero_al)\n",
        "\n",
        "print(fabrica1)"
      ],
      "metadata": {
        "colab": {
          "base_uri": "https://localhost:8080/"
        },
        "id": "Gkj7GSh_NnQe",
        "outputId": "f26ec2e9-5b03-493f-bb91-433f7bac674e"
      },
      "execution_count": 2,
      "outputs": [
        {
          "output_type": "stream",
          "name": "stdout",
          "text": [
            "[67.95, 53.7, 56.39, 87.51, 67.54, 70.74, 76.35, 84.41, 62.62, 60.62, 90.33, 80.38, 98.37, 81.61, 57.42, 82.85, 99.07, 82.9, 78.12, 99.97, 63.57, 98.78, 67.81, 55.25, 80.74, 73.87, 58.08, 81.52, 60.16, 81.61, 67.64, 68.8, 63.73, 55.79, 94.36, 55.94, 69.36, 85.05, 93.17, 65.76, 59.38, 66.71, 50.72, 95.24, 90.82, 62.22, 80.41, 55.29, 76.31, 90.24, 90.53, 50.72, 75.38, 51.48, 53.31, 67.21, 82.06, 52.9, 51.42, 80.64, 66.52, 64.53, 76.55, 78.69, 54.73, 70.5, 87.77, 50.27, 84.1, 88.23, 79.48, 93.04, 93.3, 61.1, 95.97, 67.48, 88.25, 55.97, 53.83, 59.79, 77.86, 89.15, 99.45, 96.14, 83.08, 96.09, 54.72, 86.73, 86.99, 89.88, 67.23, 99.06, 67.23, 81.36, 79.09, 69.52, 90.29, 72.51, 77.57, 96.78]\n"
          ]
        }
      ]
    },
    {
      "cell_type": "code",
      "source": [
        "fabrica2 = []\n",
        "for i in range(100):\n",
        "  numero_al = round(random.uniform(40, 93), 2)\n",
        "  fabrica2.append(numero_al)\n",
        "\n",
        "print(fabrica2)"
      ],
      "metadata": {
        "colab": {
          "base_uri": "https://localhost:8080/"
        },
        "id": "1-qDj_6rNyO7",
        "outputId": "36392e77-ecea-4e9c-b8b2-6015735f9aac"
      },
      "execution_count": 4,
      "outputs": [
        {
          "output_type": "stream",
          "name": "stdout",
          "text": [
            "[86.23, 84.2, 51.74, 67.01, 68.28, 68.93, 54.91, 41.19, 64.07, 84.48, 45.07, 45.19, 65.08, 86.85, 88.14, 55.76, 48.18, 64.65, 54.43, 91.17, 69.25, 90.35, 43.01, 43.3, 83.52, 77.12, 45.36, 84.49, 64.47, 90.98, 58.36, 45.83, 74.53, 80.14, 76.87, 48.48, 52.18, 90.62, 57.33, 56.2, 53.03, 61.38, 40.56, 58.09, 48.82, 48.56, 85.74, 86.01, 91.3, 84.66, 46.92, 83.01, 67.64, 40.97, 42.91, 60.99, 64.19, 68.67, 83.09, 61.31, 43.99, 66.46, 42.17, 48.1, 64.48, 87.5, 87.13, 85.52, 45.21, 89.21, 85.16, 58.3, 41.11, 59.46, 52.4, 45.29, 78.39, 82.76, 89.33, 80.79, 88.0, 61.33, 43.71, 88.18, 55.82, 42.57, 83.36, 55.66, 55.53, 86.74, 49.68, 53.3, 87.9, 88.33, 90.29, 90.34, 81.19, 69.07, 48.97, 48.96]\n"
          ]
        }
      ]
    },
    {
      "cell_type": "code",
      "source": [
        "maximo1 = max(fabrica1)\n",
        "minimo1 = min(fabrica1)\n",
        "rango1 = maximo1 - minimo1\n",
        "media1 = mean(fabrica1)\n",
        "mediana1 = median(fabrica1)\n",
        "moda1 = mode(fabrica1)\n",
        "\n",
        "print(\"Estadistica descriptiva de la Fabrica 1\\n\", \"Media =\",media1,\"\\nMediana =\",mediana1,\"\\nModa =\",moda1,\"\\nMaximo =\",maximo1,\"\\nMinimo =\",minimo1,\"\\n Rango =\",rango1)"
      ],
      "metadata": {
        "colab": {
          "base_uri": "https://localhost:8080/"
        },
        "id": "XXcGkNtHONab",
        "outputId": "e8760ad3-d996-40e5-ea7d-0f8ce0a941a9"
      },
      "execution_count": 8,
      "outputs": [
        {
          "output_type": "stream",
          "name": "stdout",
          "text": [
            "Estadistica descriptiva de la Fabrica 1\n",
            " Media = 74.9366 \n",
            "Mediana = 76.44999999999999 \n",
            "Moda = 81.61 \n",
            "Maximo = 99.97 \n",
            "Minimo = 50.27 \n",
            " Rango = 49.699999999999996\n"
          ]
        }
      ]
    },
    {
      "cell_type": "code",
      "source": [
        "maximo2 = max(fabrica2)\n",
        "minimo2 = min(fabrica2)\n",
        "rango2 = maximo2 - minimo2\n",
        "media2 = mean(fabrica2)\n",
        "mediana2 = median(fabrica2)\n",
        "moda2 = mode(fabrica2)\n",
        "\n",
        "print(\"Estadistica descriptiva de la Fabrica 2\\n\", \"Media =\",media2,\"\\nMediana =\",mediana2,\"\\nModa =\",moda2,\"\\nMaximo =\",maximo2,\"\\nMinimo =\",minimo2,\"\\n Rango =\",rango2)"
      ],
      "metadata": {
        "colab": {
          "base_uri": "https://localhost:8080/"
        },
        "id": "PnK4UTpCPhAL",
        "outputId": "2303d639-492a-405f-b469-1e99558d1b8b"
      },
      "execution_count": 9,
      "outputs": [
        {
          "output_type": "stream",
          "name": "stdout",
          "text": [
            "Estadistica descriptiva de la Fabrica 2\n",
            " Media = 66.2749 \n",
            "Mediana = 64.475 \n",
            "Moda = 86.23 \n",
            "Maximo = 91.3 \n",
            "Minimo = 40.56 \n",
            " Rango = 50.739999999999995\n"
          ]
        }
      ]
    },
    {
      "cell_type": "markdown",
      "source": [
        "Dispercion De Los Datos\n"
      ],
      "metadata": {
        "id": "I_y28ICfQW9j"
      }
    },
    {
      "cell_type": "code",
      "source": [
        "desviacion_estandar_fabrica1 = stdev(fabrica1)\n",
        "print(desviacion_estandar_fabrica1)\n"
      ],
      "metadata": {
        "colab": {
          "base_uri": "https://localhost:8080/"
        },
        "id": "GwiRIHynQU30",
        "outputId": "13eb7741-6570-4100-e9ab-52d78a20ea09"
      },
      "execution_count": 10,
      "outputs": [
        {
          "output_type": "stream",
          "name": "stdout",
          "text": [
            "14.744013626492002\n"
          ]
        }
      ]
    },
    {
      "cell_type": "code",
      "source": [
        "desviacion_estandar_fabrica2 = stdev(fabrica2)\n",
        "print(desviacion_estandar_fabrica2)"
      ],
      "metadata": {
        "colab": {
          "base_uri": "https://localhost:8080/"
        },
        "id": "Vf9b2X_SQoOp",
        "outputId": "4c7be47b-744f-4ee2-e3a7-8e75663199f3"
      },
      "execution_count": 11,
      "outputs": [
        {
          "output_type": "stream",
          "name": "stdout",
          "text": [
            "17.147355804934186\n"
          ]
        }
      ]
    },
    {
      "cell_type": "code",
      "source": [
        "plt.figure(figsize = (8,6))\n",
        "plt.hist(fabrica1, bins=10, alpha=0.2, color='b', edgecolor ='black')\n",
        "plt.axvline(media1,color='b', linestyle='dashed',linewidth=2,label=f'Media={media1:.2f}')\n",
        "plt.axvline(mediana1,color='r', linestyle='dashed',linewidth=2,label=f'Mediana={mediana1:.2f}')\n",
        "plt.axvline(moda1,color='y', linestyle='dashed',linewidth=2,label=f'Moda={moda1:.2f}')\n",
        "plt.axvline(media1 - desviacion_estandar_fabrica1)"
      ],
      "metadata": {
        "id": "c5r_fI0nRCfk"
      },
      "execution_count": null,
      "outputs": []
    }
  ]
}